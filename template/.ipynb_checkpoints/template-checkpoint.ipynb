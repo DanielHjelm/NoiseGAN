{
 "cells": [
  {
   "cell_type": "code",
   "execution_count": 1,
   "metadata": {},
   "outputs": [],
   "source": [
    "# !pip install tqdm"
   ]
  },
  {
   "cell_type": "markdown",
   "metadata": {},
   "source": [
    "# Imports"
   ]
  },
  {
   "cell_type": "code",
   "execution_count": 2,
   "metadata": {},
   "outputs": [
    {
     "name": "stderr",
     "output_type": "stream",
     "text": [
      "2022-09-30 11:35:07.660566: I tensorflow/core/platform/cpu_feature_guard.cc:193] This TensorFlow binary is optimized with oneAPI Deep Neural Network Library (oneDNN) to use the following CPU instructions in performance-critical operations:  AVX2 AVX512F FMA\n",
      "To enable them in other operations, rebuild TensorFlow with the appropriate compiler flags.\n",
      "2022-09-30 11:35:07.867649: W tensorflow/stream_executor/platform/default/dso_loader.cc:64] Could not load dynamic library 'libcudart.so.11.0'; dlerror: libcudart.so.11.0: cannot open shared object file: No such file or directory\n",
      "2022-09-30 11:35:07.867672: I tensorflow/stream_executor/cuda/cudart_stub.cc:29] Ignore above cudart dlerror if you do not have a GPU set up on your machine.\n",
      "2022-09-30 11:35:07.900242: E tensorflow/stream_executor/cuda/cuda_blas.cc:2981] Unable to register cuBLAS factory: Attempting to register factory for plugin cuBLAS when one has already been registered\n",
      "2022-09-30 11:35:08.545786: W tensorflow/stream_executor/platform/default/dso_loader.cc:64] Could not load dynamic library 'libnvinfer.so.7'; dlerror: libnvinfer.so.7: cannot open shared object file: No such file or directory\n",
      "2022-09-30 11:35:08.545884: W tensorflow/stream_executor/platform/default/dso_loader.cc:64] Could not load dynamic library 'libnvinfer_plugin.so.7'; dlerror: libnvinfer_plugin.so.7: cannot open shared object file: No such file or directory\n",
      "2022-09-30 11:35:08.545894: W tensorflow/compiler/tf2tensorrt/utils/py_utils.cc:38] TF-TRT Warning: Cannot dlopen some TensorRT libraries. If you would like to use Nvidia GPU with TensorRT, please make sure the missing libraries mentioned above are installed properly.\n"
     ]
    }
   ],
   "source": [
    "import crTemplateCorrelator\n",
    "import crArtificialTemplateBank\n",
    "import numpy as np\n",
    "from tensorflow import keras\n",
    "import os, sys\n",
    "sys.path.append(os.path.dirname(os.path.dirname(os.path.abspath(\"analyze.py\"))))\n",
    "sys.path.insert(1, '/lustre/fs22/group/radio/dhjelm/')\n",
    "import numpy as np\n",
    "import NuRadioReco.framework.event\n",
    "import NuRadioReco.framework.station\n",
    "import NuRadioReco.framework.channel\n",
    "from NuRadioReco.utilities import units\n",
    "import logging\n",
    "import matplotlib.pyplot as plt\n",
    "import os, sys\n",
    "sys.path.append(os.path.dirname(os.path.dirname(os.path.abspath(\"analyze.py\"))))\n",
    "sys.path.insert(1, '/lustre/fs22/group/radio/dhjelm/')\n",
    "import data_preprocessing\n",
    "import analyze"
   ]
  },
  {
   "cell_type": "markdown",
   "metadata": {},
   "source": [
    "# Real and generated data"
   ]
  },
  {
   "cell_type": "code",
   "execution_count": 21,
   "metadata": {},
   "outputs": [],
   "source": [
    "# Load data\n",
    "data = np.load('../../data_preprocessed.npy')\n",
    "current_noise = np.load('../current_noise.npy')"
   ]
  },
  {
   "cell_type": "code",
   "execution_count": 22,
   "metadata": {},
   "outputs": [
    {
     "name": "stdout",
     "output_type": "stream",
     "text": [
      "(9157, 512)\n",
      "(9157, 512)\n"
     ]
    }
   ],
   "source": [
    "print(np.shape(data))\n",
    "print(np.shape(current_noise[0:9157,:]))\n",
    "current_noise = current_noise[0:9157,:]"
   ]
  },
  {
   "cell_type": "code",
   "execution_count": 5,
   "metadata": {},
   "outputs": [
    {
     "name": "stdout",
     "output_type": "stream",
     "text": [
      "(9157, 512)\n",
      "-1.4336996031661545e-17\n",
      "1.0000000000000002\n"
     ]
    }
   ],
   "source": [
    "print(np.shape(current_noise))\n",
    "\n",
    "print(data.mean())\n",
    "print(data.std())"
   ]
  },
  {
   "cell_type": "code",
   "execution_count": 6,
   "metadata": {},
   "outputs": [
    {
     "name": "stderr",
     "output_type": "stream",
     "text": [
      "2022-09-30 11:35:09.475313: W tensorflow/stream_executor/platform/default/dso_loader.cc:64] Could not load dynamic library 'libcuda.so.1'; dlerror: libcuda.so.1: cannot open shared object file: No such file or directory\n",
      "2022-09-30 11:35:09.475348: W tensorflow/stream_executor/cuda/cuda_driver.cc:263] failed call to cuInit: UNKNOWN ERROR (303)\n",
      "2022-09-30 11:35:09.475368: I tensorflow/stream_executor/cuda/cuda_diagnostics.cc:156] kernel driver does not appear to be running on this host (wgs3e.zeuthen.desy.de): /proc/driver/nvidia/version does not exist\n",
      "2022-09-30 11:35:09.475638: I tensorflow/core/platform/cpu_feature_guard.cc:193] This TensorFlow binary is optimized with oneAPI Deep Neural Network Library (oneDNN) to use the following CPU instructions in performance-critical operations:  AVX2 AVX512F FMA\n",
      "To enable them in other operations, rebuild TensorFlow with the appropriate compiler flags.\n",
      "WARNING:tensorflow:No training configuration found in save file, so the model was *not* compiled. Compile it manually.\n"
     ]
    }
   ],
   "source": [
    "# Load generator\n",
    "generator = keras.models.load_model('../s') \n"
   ]
  },
  {
   "cell_type": "code",
   "execution_count": 7,
   "metadata": {},
   "outputs": [
    {
     "name": "stdout",
     "output_type": "stream",
     "text": [
      "(9157, 512)\n"
     ]
    }
   ],
   "source": [
    "noise = np.random.randn(len(data), 128)\n",
    "noise = np.expand_dims(noise, axis=-1) \n",
    "generated_signals = generator.predict_on_batch(noise)\n",
    "generated_signals = generated_signals[:,:,0]\n",
    "\n",
    "print(np.shape(generated_signals))"
   ]
  },
  {
   "cell_type": "code",
   "execution_count": 8,
   "metadata": {},
   "outputs": [
    {
     "name": "stdout",
     "output_type": "stream",
     "text": [
      "0.06345579\n",
      "0.9883917\n"
     ]
    }
   ],
   "source": [
    "print(generated_signals.mean())\n",
    "print(generated_signals.std())"
   ]
  },
  {
   "cell_type": "code",
   "execution_count": null,
   "metadata": {},
   "outputs": [],
   "source": []
  },
  {
   "cell_type": "code",
   "execution_count": 9,
   "metadata": {},
   "outputs": [],
   "source": [
    "station_number = 24\n",
    "channels = [0]\n",
    "\n",
    "\n",
    "def get_nuradiomc_event(trace, run_number=1, event_number=1):\n",
    "        evt = NuRadioReco.framework.event.Event(run_number, event_number)\n",
    "        station = NuRadioReco.framework.station.Station(station_number)\n",
    "        \n",
    "        # Loop over all requested channels in data\n",
    "        for chan in channels:\n",
    "            channel = NuRadioReco.framework.channel.Channel(chan)\n",
    "\n",
    "            # Get data GAN\n",
    "            trace = trace\n",
    "            channel.set_trace(trace, 3.2*units.GHz)\n",
    "            station.add_channel(channel)\n",
    "            \n",
    "        evt.set_station(station)\n",
    "        return evt"
   ]
  },
  {
   "cell_type": "code",
   "execution_count": 10,
   "metadata": {},
   "outputs": [],
   "source": [
    "events_gen = []\n",
    "events_data = []\n",
    "events_current = []\n",
    "for i, trace in enumerate(generated_signals):\n",
    "    event = get_nuradiomc_event(trace, 1, i)\n",
    "    events_gen.append(event)\n",
    "\n",
    "for i, trace in enumerate(data):\n",
    "    event = get_nuradiomc_event(trace, 1, i)\n",
    "    events_data.append(event)\n",
    "\n",
    "for i, trace in enumerate(current_noise):\n",
    "    event = get_nuradiomc_event(trace, 1, i)\n",
    "    events_current.append(event)"
   ]
  },
  {
   "cell_type": "code",
   "execution_count": 11,
   "metadata": {},
   "outputs": [
    {
     "name": "stdout",
     "output_type": "stream",
     "text": [
      "9157\n"
     ]
    }
   ],
   "source": [
    "print(len(events_gen))"
   ]
  },
  {
   "cell_type": "markdown",
   "metadata": {},
   "source": [
    "# Template correlation"
   ]
  },
  {
   "cell_type": "markdown",
   "metadata": {},
   "source": [
    "## Create templates"
   ]
  },
  {
   "cell_type": "code",
   "execution_count": 12,
   "metadata": {},
   "outputs": [],
   "source": [
    "crArtificialTemplateBank = crArtificialTemplateBank.crArtificialTemplateBank()\n",
    "crArtificialTemplateBank.begin(detector_file='RNO_G_LPDAs.json', logger_level=logging.ERROR)\n",
    "crArtificialTemplateBank.set_parameter_templates(0, Efield_width=[5,4,2])"
   ]
  },
  {
   "cell_type": "code",
   "execution_count": 13,
   "metadata": {},
   "outputs": [
    {
     "name": "stderr",
     "output_type": "stream",
     "text": [
      "WARNING:NuRadioReco.detector:loading detector description from /lustre/fs22/group/radio/dhjelm/emg_gan/template/RNO_G_LPDAs.json\n",
      "WARNING:NuRadioReco.detector:Cable delay not set for channel 0 in station 101, assuming cable delay is zero\n",
      "WARNING:NuRadioReco.detector:Cable delay not set for channel 0 in station 101, assuming cable delay is zero\n",
      "WARNING:NuRadioReco.antennapattern:loading antenna file createLPDA_100MHz_InfFirn took 1 seconds\n",
      "WARNING:NuRadioReco.detector:loading detector description from /lustre/fs22/group/radio/dhjelm/emg_gan/template/RNO_G_LPDAs.json\n",
      "WARNING:NuRadioReco.detector:Cable delay not set for channel 0 in station 101, assuming cable delay is zero\n",
      "WARNING:NuRadioReco.detector:Cable delay not set for channel 0 in station 101, assuming cable delay is zero\n",
      "WARNING:NuRadioReco.detector:loading detector description from /lustre/fs22/group/radio/dhjelm/emg_gan/template/RNO_G_LPDAs.json\n",
      "WARNING:NuRadioReco.detector:Cable delay not set for channel 0 in station 101, assuming cable delay is zero\n",
      "WARNING:NuRadioReco.detector:Cable delay not set for channel 0 in station 101, assuming cable delay is zero\n"
     ]
    }
   ],
   "source": [
    "templates = crArtificialTemplateBank.get_templates()"
   ]
  },
  {
   "cell_type": "markdown",
   "metadata": {},
   "source": [
    "## Create template correlator"
   ]
  },
  {
   "cell_type": "code",
   "execution_count": 14,
   "metadata": {},
   "outputs": [],
   "source": [
    "crTemplateCorrelator = crTemplateCorrelator.crTemplateCorrelator()"
   ]
  },
  {
   "cell_type": "markdown",
   "metadata": {},
   "source": [
    "## Correlation"
   ]
  },
  {
   "cell_type": "code",
   "execution_count": 15,
   "metadata": {},
   "outputs": [],
   "source": [
    "# Settings for correlation\n",
    "channel_num_data = channels[0]\n",
    "station_num_data = station_number"
   ]
  },
  {
   "cell_type": "markdown",
   "metadata": {},
   "source": [
    "### Generator"
   ]
  },
  {
   "cell_type": "code",
   "execution_count": 16,
   "metadata": {},
   "outputs": [],
   "source": [
    "max_corr_lst_gen = []\n",
    "# Loop over all events\n",
    "for event in events_gen:\n",
    "    corr = []\n",
    "    # Loop over the three templates\n",
    "    for template in templates:\n",
    "        \n",
    "        # Get statation and channel number for template\n",
    "        station_num_temp = template.get_station_ids()[0]\n",
    "        station = template.get_station(station_num_temp)\n",
    "        channel_num_temp = station.get_channel_ids()[0]\n",
    "        \n",
    "        # Calculate maximum correlation for this template and add to corr list\n",
    "        corr.append(max(crTemplateCorrelator.correlation_scan_single_spacing_matrix_variable_window(event, template, channel_num_data, channel_num_temp, station_num_data, station_num_temp, 200 * units.nanosecond, return_time_difference=False,showPlot=False)))\n",
    "    \n",
    "    # Add the maximum correlation for the three templates in to list\n",
    "    max_corr_lst_gen.append(max(corr))\n",
    "    \n",
    "    \n",
    "    "
   ]
  },
  {
   "cell_type": "code",
   "execution_count": 17,
   "metadata": {},
   "outputs": [
    {
     "name": "stdout",
     "output_type": "stream",
     "text": [
      "9157\n"
     ]
    }
   ],
   "source": [
    "print(len(max_corr_lst_gen))"
   ]
  },
  {
   "cell_type": "markdown",
   "metadata": {},
   "source": [
    "### Data"
   ]
  },
  {
   "cell_type": "code",
   "execution_count": 18,
   "metadata": {},
   "outputs": [],
   "source": [
    "max_corr_lst_data = []\n",
    "# Loop over all events\n",
    "for event in events_data:\n",
    "    corr = []\n",
    "    # Loop over the three templates\n",
    "    for template in templates:\n",
    "        \n",
    "        # Get statation and channel number for template\n",
    "        station_num_temp = template.get_station_ids()[0]\n",
    "        station = template.get_station(station_num_temp)\n",
    "        channel_num_temp = station.get_channel_ids()[0]\n",
    "        \n",
    "        # Calculate maximum correlation for this template and add to corr list\n",
    "        corr.append(max(crTemplateCorrelator.correlation_scan_single_spacing_matrix_variable_window(event, template, channel_num_data, channel_num_temp, station_num_data, station_num_temp, 200 * units.nanosecond, return_time_difference=False,showPlot=False)))\n",
    "    \n",
    "    # Add the maximum correlation for the three templates in to list\n",
    "    max_corr_lst_data.append(max(corr))"
   ]
  },
  {
   "cell_type": "markdown",
   "metadata": {},
   "source": [
    "# Current noise"
   ]
  },
  {
   "cell_type": "code",
   "execution_count": 19,
   "metadata": {},
   "outputs": [],
   "source": [
    "max_corr_lst_current = []\n",
    "# Loop over all events\n",
    "for event in events_current:\n",
    "    corr = []\n",
    "    # Loop over the three templates\n",
    "    for template in templates:\n",
    "        \n",
    "        # Get statation and channel number for template\n",
    "        station_num_temp = template.get_station_ids()[0]\n",
    "        station = template.get_station(station_num_temp)\n",
    "        channel_num_temp = station.get_channel_ids()[0]\n",
    "        \n",
    "        # Calculate maximum correlation for this template and add to corr list\n",
    "        corr.append(max(crTemplateCorrelator.correlation_scan_single_spacing_matrix_variable_window(event, template, channel_num_data, channel_num_temp, station_num_data, station_num_temp, 200 * units.nanosecond, return_time_difference=False,showPlot=False)))\n",
    "    \n",
    "    # Add the maximum correlation for the three templates in to list\n",
    "    max_corr_lst_current.append(max(corr))"
   ]
  },
  {
   "cell_type": "code",
   "execution_count": 20,
   "metadata": {},
   "outputs": [
    {
     "data": {
      "image/png": "[encoded data removed]",
      "text/plain": [
       "<Figure size 864x432 with 2 Axes>"
      ]
     },
     "metadata": {
      "needs_background": "light"
     },
     "output_type": "display_data"
    }
   ],
   "source": [
    "fig, (ax1, ax2) = plt.subplots(1, 2)\n",
    "fig.set_size_inches(12, 6, forward=True)\n",
    "bins = 100\n",
    "\n",
    "ax1.hist(max_corr_lst_data, bins=bins, label = \"Data\")\n",
    "ax1.hist(max_corr_lst_gen, alpha=0.5,  bins=bins, label = \"Generator\")\n",
    "ax1.hist(max_corr_lst_current, alpha=0.5,  bins=bins, label = \"Current noise\")\n",
    "ax1.legend()\n",
    "ax1.set_title(\"Histogram of data and generated data\")\n",
    "\n",
    "ax2.hist(max_corr_lst_data, bins=bins, label = \"Data\", density=True)\n",
    "ax2.hist(max_corr_lst_gen, alpha=0.5,  bins=bins, label = \"Generator\", density=True)\n",
    "ax2.hist(max_corr_lst_current, alpha=0.5,  bins=bins, label = \"Current noise\", density=True)\n",
    "ax2.legend()\n",
    "ax2.set_title(\"PDF of data and generated data\")\n",
    "plt.show()"
   ]
  },
  {
   "cell_type": "code",
   "execution_count": null,
   "metadata": {},
   "outputs": [],
   "source": []
  }
 ],
 "metadata": {
  "kernelspec": {
   "display_name": "Python [conda env:anaconda_p3-jupyter]",
   "language": "python",
   "name": "conda-env-anaconda_p3-jupyter-py"
  },
  "language_info": {
   "codemirror_mode": {
    "name": "ipython",
    "version": 3
   },
   "file_extension": ".py",
   "mimetype": "text/x-python",
   "name": "python",
   "nbconvert_exporter": "python",
   "pygments_lexer": "ipython3",
   "version": "3.9.12"
  }
 },
 "nbformat": 4,
 "nbformat_minor": 4
}
